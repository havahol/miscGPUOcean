{
 "cells": [
  {
   "cell_type": "code",
   "execution_count": 1,
   "id": "ecd393d0",
   "metadata": {},
   "outputs": [
    {
     "ename": "LoadError",
     "evalue": "ArgumentError: Package CairoMakie not found in current path:\n- Run `import Pkg; Pkg.add(\"CairoMakie\")` to install the CairoMakie package.\n",
     "output_type": "error",
     "traceback": [
      "ArgumentError: Package CairoMakie not found in current path:\n- Run `import Pkg; Pkg.add(\"CairoMakie\")` to install the CairoMakie package.\n",
      "",
      "Stacktrace:",
      " [1] require(into::Module, mod::Symbol)",
      "   @ Base .\\loading.jl:967",
      " [2] eval",
      "   @ .\\boot.jl:373 [inlined]",
      " [3] include_string(mapexpr::typeof(REPL.softscope), mod::Module, code::String, filename::String)",
      "   @ Base .\\loading.jl:1196"
     ]
    }
   ],
   "source": [
    "using CairoMakie\n",
    "using StaticArrays\n",
    "using Distributions\n",
    "using ProgressMeter\n",
    "using MakiePublication\n",
    "\n",
    "function rhs(u, p, t)\n",
    "     return u\n",
    "end\n",
    "\n",
    "\n",
    "function simulate(u0, T, dt, p; f = rhs)\n",
    "    t = 0.0\n",
    "    \n",
    "    u = copy(u0)\n",
    "    \n",
    "    while t < T\n",
    "        u = u + dt * f(u, p , t)\n",
    "         \n",
    "        t += dt\n",
    "    end\n",
    "    \n",
    "    return u\n",
    "end\n",
    "\n",
    "\n",
    "function make_ensemble(M, dt)\n",
    "   ensemble = zeros(M)\n",
    "    \n",
    "    for m in 1:M\n",
    "       ensemble[m] = simulate(rand(Uniform(1, 2)), 1.0, dt, [])\n",
    "    end\n",
    "    \n",
    "    ensemble\n",
    "end\n",
    "\n",
    "function make_ensemble_pair(M, dt1, dt2)\n",
    "   ensemble = zeros((2, M))\n",
    "    \n",
    "    for m in 1:M\n",
    "        u0 = rand(Uniform(1, 2))\n",
    "        ensemble[1, m] = simulate(u0, 1.0, dt1, [])\n",
    "        ensemble[2, m] = simulate(u0, 1.0, dt2, [])\n",
    "    end\n",
    "    \n",
    "    ensemble\n",
    "end\n"
   ]
  },
  {
   "cell_type": "code",
   "execution_count": 2,
   "id": "db16fbb7",
   "metadata": {},
   "outputs": [],
   "source": [
    "ensemble = make_ensemble(1000000, 0.01);"
   ]
  },
  {
   "cell_type": "code",
   "execution_count": 3,
   "id": "31a9689c",
   "metadata": {},
   "outputs": [
    {
     "data": {
      "text/plain": [
       "4.0559442653639195"
      ]
     },
     "execution_count": 3,
     "metadata": {},
     "output_type": "execute_result"
    }
   ],
   "source": [
    "mean(ensemble)"
   ]
  },
  {
   "cell_type": "code",
   "execution_count": 4,
   "id": "bbab481b",
   "metadata": {},
   "outputs": [
    {
     "data": {
      "text/plain": [
       "0.6096484585664307"
      ]
     },
     "execution_count": 4,
     "metadata": {},
     "output_type": "execute_result"
    }
   ],
   "source": [
    "var(ensemble)"
   ]
  },
  {
   "cell_type": "code",
   "execution_count": 5,
   "id": "f8bae0b3",
   "metadata": {},
   "outputs": [
    {
     "data": {
      "text/plain": [
       "0.6157546749108818"
      ]
     },
     "execution_count": 5,
     "metadata": {},
     "output_type": "execute_result"
    }
   ],
   "source": [
    "actualvar = 1/3 * (exp(1)^2*2^3-exp(1)^2) - (1/2 * (exp(1)*2^2-exp(1)))^2\n"
   ]
  },
  {
   "cell_type": "code",
   "execution_count": 6,
   "id": "a131ab33",
   "metadata": {},
   "outputs": [
    {
     "data": {
      "text/plain": [
       "4.077422742688568"
      ]
     },
     "execution_count": 6,
     "metadata": {},
     "output_type": "execute_result"
    }
   ],
   "source": [
    "actualmean = 1/2 * (exp(1)*2^2-exp(1))"
   ]
  },
  {
   "cell_type": "code",
   "execution_count": 7,
   "id": "a4e46738",
   "metadata": {},
   "outputs": [
    {
     "data": {
      "text/plain": [
       "make_mlmc_ensemble (generic function with 1 method)"
      ]
     },
     "execution_count": 7,
     "metadata": {},
     "output_type": "execute_result"
    }
   ],
   "source": [
    "function make_mlmc_ensemble(dts, samples)\n",
    "    ensemble = []\n",
    "    push!(ensemble, make_ensemble(samples[1], dts[1]))\n",
    "    for (n, (dtcoarse, dtfine, M)) in enumerate(zip(dts[1:end-1], dts[2:end], samples[2:end]))\n",
    "        push!(ensemble, make_ensemble_pair(M, dtfine, dtcoarse))\n",
    "    end\n",
    "    return ensemble\n",
    "end"
   ]
  },
  {
   "cell_type": "code",
   "execution_count": 25,
   "id": "0d88feb7",
   "metadata": {},
   "outputs": [
    {
     "data": {
      "text/plain": [
       "estimate_mlmc_var (generic function with 1 method)"
      ]
     },
     "execution_count": 25,
     "metadata": {},
     "output_type": "execute_result"
    }
   ],
   "source": [
    "function estimate_mlmc_mean(g, ensemble)\n",
    "    m = mean(g.(ensemble[1]))\n",
    "    for level in ensemble[2:end]\n",
    "        m += mean(g.(level[1, 1:end])) - mean(g.(level[2, 1:end]))\n",
    "    end\n",
    "    return m\n",
    "end\n",
    "\n",
    "function estimate_mlmc_var_alt(ensemble)\n",
    "    m = mean((ensemble[1] .- mean(ensemble[1])).^2)\n",
    "    for level in ensemble[2:end]\n",
    "        m += mean((level[1, 1:end] .- mean(level[1, 1:end])).^2) - mean((level[2, 1:end] .- mean(level[2, 1:end])).^2)\n",
    "    end\n",
    "    return m\n",
    "end\n",
    "\n",
    "function estimate_mlmc_var(ensemble)\n",
    "   return estimate_mlmc_mean(x->x.^2, ensemble) -  estimate_mlmc_mean(x->x, ensemble)^2\n",
    "end"
   ]
  },
  {
   "cell_type": "code",
   "execution_count": 9,
   "id": "b52f9741",
   "metadata": {},
   "outputs": [
    {
     "data": {
      "text/plain": [
       "9-element Vector{Int64}:\n",
       " 1048576\n",
       "  262144\n",
       "   65536\n",
       "   16384\n",
       "    4096\n",
       "    1024\n",
       "     256\n",
       "      64\n",
       "      16"
      ]
     },
     "execution_count": 9,
     "metadata": {},
     "output_type": "execute_result"
    }
   ],
   "source": [
    "startres = 2\n",
    "endres = 10\n",
    "dts = 1.0 ./ (2 .^ (startres:endres))\n",
    "samples = reverse(16 * 4 .^( ((startres:endres) .- startres)))"
   ]
  },
  {
   "cell_type": "code",
   "execution_count": 10,
   "id": "a585c409",
   "metadata": {},
   "outputs": [],
   "source": [
    "mlmc_ensemble = make_mlmc_ensemble(dts, samples);"
   ]
  },
  {
   "cell_type": "code",
   "execution_count": 11,
   "id": "cad82668",
   "metadata": {},
   "outputs": [
    {
     "data": {
      "text/plain": [
       "4.0763778155797175"
      ]
     },
     "execution_count": 11,
     "metadata": {},
     "output_type": "execute_result"
    }
   ],
   "source": [
    "m = estimate_mlmc_mean(x->x, mlmc_ensemble)"
   ]
  },
  {
   "cell_type": "code",
   "execution_count": 12,
   "id": "98df4a64",
   "metadata": {},
   "outputs": [
    {
     "data": {
      "text/plain": [
       "0.6184585507158964"
      ]
     },
     "execution_count": 12,
     "metadata": {},
     "output_type": "execute_result"
    }
   ],
   "source": [
    "estimate_mlmc_mean(x->x^2, mlmc_ensemble)-estimate_mlmc_mean(x->x, mlmc_ensemble)^2"
   ]
  },
  {
   "cell_type": "code",
   "execution_count": 13,
   "id": "5c98884f",
   "metadata": {},
   "outputs": [
    {
     "data": {
      "text/plain": [
       "0.618458550715878"
      ]
     },
     "execution_count": 13,
     "metadata": {},
     "output_type": "execute_result"
    }
   ],
   "source": [
    "estimate_mlmc_mean(x->(x-m)^2, mlmc_ensemble)"
   ]
  },
  {
   "cell_type": "code",
   "execution_count": 14,
   "id": "149bcdab",
   "metadata": {},
   "outputs": [
    {
     "data": {
      "text/plain": [
       "0:8"
      ]
     },
     "execution_count": 14,
     "metadata": {},
     "output_type": "execute_result"
    }
   ],
   "source": [
    "(startres:endres) .- startres"
   ]
  },
  {
   "cell_type": "code",
   "execution_count": 15,
   "id": "50079676",
   "metadata": {},
   "outputs": [
    {
     "data": {
      "text/plain": [
       "0.6160134366982297"
      ]
     },
     "execution_count": 15,
     "metadata": {},
     "output_type": "execute_result"
    }
   ],
   "source": [
    "estimate_mlmc_var_alt(mlmc_ensemble)"
   ]
  },
  {
   "cell_type": "code",
   "execution_count": 16,
   "id": "5fdb33df",
   "metadata": {},
   "outputs": [],
   "source": [
    "repeats = 50\n",
    "observations = Dict(\"Plain\" => [], \"Alt\" => [])\n",
    "for repeat in 1:repeats\n",
    "    mlmc_ensemble = make_mlmc_ensemble(dts, samples);\n",
    "    \n",
    "    push!(observations[\"Alt\"], estimate_mlmc_var_alt(mlmc_ensemble))\n",
    "    push!(observations[\"Plain\"], estimate_mlmc_mean(x->x^2, mlmc_ensemble)-estimate_mlmc_mean(x->x, mlmc_ensemble)^2)\n",
    "end"
   ]
  },
  {
   "cell_type": "code",
   "execution_count": 17,
   "id": "7fd98808",
   "metadata": {},
   "outputs": [
    {
     "name": "stdout",
     "output_type": "stream",
     "text": [
      "mean(observations[\"Alt\"] .- actualvar) = -0.0006492765273692913\n",
      "mean(observations[\"Plain\"] .- actualvar) = -0.00034693788586700694\n"
     ]
    },
    {
     "data": {
      "text/plain": [
       "-0.00034693788586700694"
      ]
     },
     "execution_count": 17,
     "metadata": {},
     "output_type": "execute_result"
    }
   ],
   "source": [
    "@show mean(observations[\"Alt\"] .- actualvar)\n",
    "@show mean(observations[\"Plain\"] .- actualvar)"
   ]
  },
  {
   "cell_type": "code",
   "execution_count": 31,
   "id": "9f4ce3ee",
   "metadata": {},
   "outputs": [
    {
     "name": "stderr",
     "output_type": "stream",
     "text": [
      "\u001b[32mProgress: 100%|█████████████████████████████████████████| Time: 0:01:47\u001b[39m\n"
     ]
    }
   ],
   "source": [
    "errors = Dict(\"Plain\" => Float64[], \"Alt\" => Float64[], \"Precomputed\" => Float64[])\n",
    "@showprogress for end_resolution in 5:10\n",
    "    repeats = 50\n",
    "    observations = Dict(\"Plain\" => [], \"Alt\" => [], \"Precomputed\" => Float64[])\n",
    "    dts = 1.0 ./ (2 .^ (startres:end_resolution))\n",
    "    samples = reverse(16 * 4 .^( ((startres:end_resolution) .- startres)))\n",
    "    for repeat in 1:repeats\n",
    "        mlmc_ensemble = make_mlmc_ensemble(dts, samples);\n",
    "\n",
    "        push!(observations[\"Alt\"], estimate_mlmc_var_alt(mlmc_ensemble))\n",
    "        push!(observations[\"Plain\"], estimate_mlmc_var(mlmc_ensemble))\n",
    "        \n",
    "        m = estimate_mlmc_mean(x->x, mlmc_ensemble)\n",
    "        push!(observations[\"Precomputed\"], estimate_mlmc_mean(x->(x.-m).^2, mlmc_ensemble))\n",
    "\n",
    "    end\n",
    "    for (k, v) in observations\n",
    "        push!(errors[k], mean(abs.(v .- actualvar)))\n",
    "    end \n",
    "end"
   ]
  },
  {
   "cell_type": "code",
   "execution_count": 40,
   "id": "e5b21f15",
   "metadata": {},
   "outputs": [
    {
     "data": {
      "image/png": "[encoded data removed]"
     },
     "execution_count": 40,
     "metadata": {},
     "output_type": "execute_result"
    }
   ],
   "source": [
    "correctlabels = Dict(\"Plain\" => L\"E_L(X^2)-E_L(X)^2\", \"Alt\" => \"Chernov\", \"Precomputed\" => L\"E_L((X-E_L(X))^2)\")\n",
    "MakiePublication.with_theme(MakiePublication.theme_web()) do\n",
    "    f = CairoMakie.Figure()\n",
    "    ax = CairoMakie.Axis(f[1, 1], title=\"Errors\", yscale = log10, xlabel=\"# Levels\", ylabel=\"Error\")\n",
    "    for (k, v) in errors\n",
    "        CairoMakie.lines!(ax, v, label=correctlabels[k])\n",
    "    end\n",
    "    f[1, 2] = Legend(f, ax, \"Types\", framevisible = false)    \n",
    "    return f\n",
    "end"
   ]
  },
  {
   "cell_type": "code",
   "execution_count": 28,
   "id": "817623cd",
   "metadata": {},
   "outputs": [
    {
     "data": {
      "image/png": "[encoded data removed]"
     },
     "execution_count": 28,
     "metadata": {},
     "output_type": "execute_result"
    }
   ],
   "source": [
    "MakiePublication.with_theme(MakiePublication.theme_web()) do\n",
    "    f = CairoMakie.Figure()\n",
    "    ax = CairoMakie.Axis(f[1, 1], title=\"Errors\")\n",
    "    CairoMakie.lines!(ax, errors[\"Alt\"], label=\"Alt\")\n",
    "    f[1, 2] = Legend(f, ax, \"Types\", framevisible = false)    \n",
    "    return f\n",
    "end"
   ]
  },
  {
   "cell_type": "code",
   "execution_count": 29,
   "id": "088941cb",
   "metadata": {},
   "outputs": [
    {
     "name": "stderr",
     "output_type": "stream",
     "text": [
      "\u001b[32mProgress: 100%|█████████████████████████████████████████| Time: 0:03:03\u001b[39m\n"
     ]
    }
   ],
   "source": [
    "\n",
    "errorsmean = Dict(\"Plain\" => Float64[])\n",
    "@showprogress for end_resolution in 5:14\n",
    "    repeats = 50\n",
    "    observations = Dict(\"Plain\" => [])\n",
    "    dts = 1.0 ./ (2 .^ (startres:end_resolution))\n",
    "    samples = reverse(16 * 4 .^( ((startres:end_resolution) .- startres)))\n",
    "    for repeat in 1:repeats\n",
    "        mlmc_ensemble = make_mlmc_ensemble(dts, samples);\n",
    "\n",
    "        push!(observations[\"Plain\"], estimate_mlmc_mean(x->x, mlmc_ensemble))\n",
    "        \n",
    "    end\n",
    "    for (k, v) in observations\n",
    "        push!(errorsmean[k], mean(abs.(v .- actualmean)))\n",
    "    end \n",
    "end"
   ]
  },
  {
   "cell_type": "code",
   "execution_count": 30,
   "id": "e339ee3a",
   "metadata": {},
   "outputs": [
    {
     "data": {
      "image/png": "[encoded data removed]"
     },
     "execution_count": 30,
     "metadata": {},
     "output_type": "execute_result"
    }
   ],
   "source": [
    "MakiePublication.with_theme(MakiePublication.theme_web()) do\n",
    "    f = CairoMakie.Figure()\n",
    "    ax = CairoMakie.Axis(f[1, 1], title=\"Errors\", yscale = log10)\n",
    "    for (k, v) in errorsmean\n",
    "        CairoMakie.lines!(ax, v, label=k)\n",
    "    end\n",
    "    f[1, 2] = Legend(f, ax, \"Types\", framevisible = false)    \n",
    "    return f\n",
    "end"
   ]
  },
  {
   "cell_type": "code",
   "execution_count": null,
   "id": "609e7adb",
   "metadata": {},
   "outputs": [],
   "source": []
  }
 ],
 "metadata": {
  "kernelspec": {
   "display_name": "Julia with 8 threads 1.7.2",
   "language": "julia",
   "name": "julia-with-8-threads-1.7"
  },
  "language_info": {
   "file_extension": ".jl",
   "mimetype": "application/julia",
   "name": "julia",
   "version": "1.7.2"
  }
 },
 "nbformat": 4,
 "nbformat_minor": 5
}
