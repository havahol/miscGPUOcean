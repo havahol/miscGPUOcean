{
 "cells": [
  {
   "cell_type": "markdown",
   "metadata": {},
   "source": [
    "```\n",
    "This software is part of GPU Ocean. \n",
    "\n",
    "Copyright (C) 2022 SINTEF Digital\n",
    "\n",
    "Minimal example for testing if wind is correctly implemented\n",
    "\n",
    "This program is free software: you can redistribute it and/or modify\n",
    "it under the terms of the GNU General Public License as published by\n",
    "the Free Software Foundation, either version 3 of the License, or\n",
    "(at your option) any later version.\n",
    "\n",
    "This program is distributed in the hope that it will be useful,\n",
    "but WITHOUT ANY WARRANTY; without even the implied warranty of\n",
    "MERCHANTABILITY or FITNESS FOR A PARTICULAR PURPOSE.  See the\n",
    "GNU General Public License for more details.\n",
    "\n",
    "You should have received a copy of the GNU General Public License\n",
    "along with this program.  If not, see <http://www.gnu.org/licenses/>.\n",
    "```"
   ]
  },
  {
   "cell_type": "markdown",
   "metadata": {},
   "source": [
    "# Check the wind textures"
   ]
  },
  {
   "cell_type": "code",
   "execution_count": 7,
   "metadata": {},
   "outputs": [],
   "source": [
    "#Lets have matplotlib \"inline\"\n",
    "%matplotlib inline\n",
    "\n",
    "from importlib import reload\n",
    "\n",
    "#Import packages we need\n",
    "import numpy as np\n",
    "from netCDF4 import Dataset\n",
    "from IPython.display import display\n",
    "\n",
    "#For plotting\n",
    "import matplotlib\n",
    "from matplotlib import pyplot as plt\n",
    "import matplotlib as mpl\n",
    "from matplotlib import animation, rc\n",
    "plt.rcParams[\"animation.html\"] = \"jshtml\"\n",
    "mpl.rcParams['figure.facecolor'] = 'white'"
   ]
  },
  {
   "cell_type": "code",
   "execution_count": 8,
   "metadata": {},
   "outputs": [],
   "source": [
    "from gpuocean.SWEsimulators import CDKLM16\n",
    "from gpuocean.utils import WindStress, IPythonMagic, Common, PlotHelper\n"
   ]
  },
  {
   "cell_type": "code",
   "execution_count": 9,
   "metadata": {},
   "outputs": [],
   "source": [
    "%cuda_context_handler gpu_ctx"
   ]
  },
  {
   "cell_type": "code",
   "execution_count": 10,
   "metadata": {},
   "outputs": [],
   "source": [
    "def sim_animation(sim, T, anim_dt, hu_max=2.0, eta_max=0.5):\n",
    "    \"\"\"\n",
    "    Creates an animation of the simulator based on T frames, with frames sub_dt*sim.dt appart.\n",
    "    \"\"\"\n",
    "    eta1, u1, v1 = sim.download(interior_domain_only=True)\n",
    "    \n",
    "    #Create figure and plot initial conditions\n",
    "    fig = plt.figure(figsize=(15, 4))\n",
    "    domain_extent = [0, sim.nx*sim.dx, 0, sim.ny*sim.dy]\n",
    "    \n",
    "    ax_eta = plt.subplot(1,3,1)\n",
    "    sp_eta = ax_eta.imshow(eta1, interpolation=\"none\", origin='lower', vmin=-eta_max, vmax=eta_max, extent=domain_extent)\n",
    "    plt.title('eta')\n",
    "    fig.colorbar(sp_eta)\n",
    "    \n",
    "    ax_u = plt.subplot(1,3,2)\n",
    "    sp_u = ax_u.imshow(u1, interpolation=\"none\", origin='lower', vmin=-hu_max, vmax=hu_max, extent=domain_extent)\n",
    "    plt.title('hu')\n",
    "    fig.colorbar(sp_u)\n",
    "    \n",
    "    ax_v = plt.subplot(1,3,3)\n",
    "    sp_v = ax_v.imshow(v1, interpolation=\"none\", origin='lower', vmin=-hu_max, vmax=hu_max, extent=domain_extent)\n",
    "    plt.title('hv')\n",
    "    fig.colorbar(sp_v)\n",
    "    \n",
    "    #Helper function which simulates and plots the solution\n",
    "    def animate(i):\n",
    "        if (i>0):\n",
    "            t = sim.step(anim_dt)\n",
    "        else:\n",
    "            t = 0.0\n",
    "        eta1, u1, v1 = sim.download(interior_domain_only=True)\n",
    "\n",
    "        #Update plots\n",
    "        fig.sca(ax_eta)\n",
    "        sp_eta.set_data(eta1)\n",
    "\n",
    "        fig.sca(ax_u)\n",
    "        sp_u.set_data(u1)\n",
    "\n",
    "        fig.sca(ax_v)\n",
    "        sp_v.set_data(v1)\n",
    "\n",
    "        fig.suptitle(\"Time = {:04.0f} h ({:s})\".format(t/3600, sim.__class__.__name__), fontsize=18)\n",
    "        print(\".\", end='')\n",
    "\n",
    "    #Matplotlib for creating an animation\n",
    "    anim = animation.FuncAnimation(fig, animate, range(T), interval=100)\n",
    "    plt.close(fig)\n",
    "    return anim"
   ]
  },
  {
   "cell_type": "markdown",
   "metadata": {},
   "source": [
    "## Define simulator\n",
    "Make a simple domain that is periodic in x and with lake-at-rest initial conditions "
   ]
  },
  {
   "cell_type": "code",
   "execution_count": 11,
   "metadata": {},
   "outputs": [],
   "source": [
    "sim_args_x = {\n",
    "    \"gpu_ctx\": gpu_ctx,\n",
    "    \"nx\": 500, \"ny\": 400, \"dx\": 800, \"dy\": 500,\n",
    "    \"g\": 9.81, \"dt\": 0.0, \"f\": 0.0, \"r\": 0.0,\n",
    "    \"boundary_conditions\": Common.BoundaryConditions(north=1, south=1,\n",
    "                                                     east =2, west =2)\n",
    "}\n",
    "\n",
    "dataShape = (sim_args_x[\"ny\"]+4, sim_args_x[\"nx\"]+4)\n",
    "\n",
    "init_args = {\n",
    "    \"eta0\": np.zeros(dataShape, dtype=np.float32),\n",
    "    \"hu0\" : np.zeros(dataShape, dtype=np.float32),\n",
    "    \"hv0\" : np.zeros(dataShape, dtype=np.float32),\n",
    "    \"H\"  : np.ones((dataShape[0]+1, dataShape[1]+1), dtype=np.float32)*100\n",
    "}"
   ]
  },
  {
   "cell_type": "markdown",
   "metadata": {},
   "source": [
    "## Define wind\n",
    " Make wind stress which is constant along x and gradually and linearly increases along y.\n",
    " This should give a linear velocity profile for $hu$ along y.\n"
   ]
  },
  {
   "cell_type": "code",
   "execution_count": 12,
   "metadata": {},
   "outputs": [
    {
     "name": "stderr",
     "output_type": "stream",
     "text": [
      "Exception caught: Resetting to CUDA context gpu_ctx\n",
      "Traceback (most recent call last):\n",
      "  File \"c:\\Users\\havardh\\Miniconda3\\envs\\gpuocean-extra\\lib\\site-packages\\IPython\\core\\interactiveshell.py\", line 3552, in run_code\n",
      "    exec(code_obj, self.user_global_ns, self.user_ns)\n",
      "  File \"C:\\Users\\havardh\\AppData\\Local\\Temp\\ipykernel_14528\\131826342.py\", line 11, in <module>\n",
      "    ws_x = wind_linear_y()\n",
      "  File \"C:\\Users\\havardh\\AppData\\Local\\Temp\\ipykernel_14528\\131826342.py\", line 10, in wind_linear_y\n",
      "    return WindStress.WindStress(t=t, u_wind=u_wind, v_wind=v_wind)\n",
      "TypeError: __init__() got an unexpected keyword argument 'u_wind'\n"
     ]
    },
    {
     "ename": "TypeError",
     "evalue": "__init__() got an unexpected keyword argument 'u_wind'",
     "output_type": "error",
     "traceback": [
      "\u001b[1;31m---------------------------------------------------------------------------\u001b[0m",
      "\u001b[1;31mTypeError\u001b[0m                                 Traceback (most recent call last)",
      "\u001b[1;32m~\\AppData\\Local\\Temp\\ipykernel_14528\\131826342.py\u001b[0m in \u001b[0;36m<module>\u001b[1;34m\u001b[0m\n\u001b[0;32m      9\u001b[0m \u001b[1;33m\u001b[0m\u001b[0m\n\u001b[0;32m     10\u001b[0m     \u001b[1;32mreturn\u001b[0m \u001b[0mWindStress\u001b[0m\u001b[1;33m.\u001b[0m\u001b[0mWindStress\u001b[0m\u001b[1;33m(\u001b[0m\u001b[0mt\u001b[0m\u001b[1;33m=\u001b[0m\u001b[0mt\u001b[0m\u001b[1;33m,\u001b[0m \u001b[0mu_wind\u001b[0m\u001b[1;33m=\u001b[0m\u001b[0mu_wind\u001b[0m\u001b[1;33m,\u001b[0m \u001b[0mv_wind\u001b[0m\u001b[1;33m=\u001b[0m\u001b[0mv_wind\u001b[0m\u001b[1;33m)\u001b[0m\u001b[1;33m\u001b[0m\u001b[1;33m\u001b[0m\u001b[0m\n\u001b[1;32m---> 11\u001b[1;33m \u001b[0mws_x\u001b[0m \u001b[1;33m=\u001b[0m \u001b[0mwind_linear_y\u001b[0m\u001b[1;33m(\u001b[0m\u001b[1;33m)\u001b[0m\u001b[1;33m\u001b[0m\u001b[1;33m\u001b[0m\u001b[0m\n\u001b[0m",
      "\u001b[1;32m~\\AppData\\Local\\Temp\\ipykernel_14528\\131826342.py\u001b[0m in \u001b[0;36mwind_linear_y\u001b[1;34m()\u001b[0m\n\u001b[0;32m      8\u001b[0m               np.zeros((1,1),     dtype=np.float32, order='C')]\n\u001b[0;32m      9\u001b[0m \u001b[1;33m\u001b[0m\u001b[0m\n\u001b[1;32m---> 10\u001b[1;33m     \u001b[1;32mreturn\u001b[0m \u001b[0mWindStress\u001b[0m\u001b[1;33m.\u001b[0m\u001b[0mWindStress\u001b[0m\u001b[1;33m(\u001b[0m\u001b[0mt\u001b[0m\u001b[1;33m=\u001b[0m\u001b[0mt\u001b[0m\u001b[1;33m,\u001b[0m \u001b[0mu_wind\u001b[0m\u001b[1;33m=\u001b[0m\u001b[0mu_wind\u001b[0m\u001b[1;33m,\u001b[0m \u001b[0mv_wind\u001b[0m\u001b[1;33m=\u001b[0m\u001b[0mv_wind\u001b[0m\u001b[1;33m)\u001b[0m\u001b[1;33m\u001b[0m\u001b[1;33m\u001b[0m\u001b[0m\n\u001b[0m\u001b[0;32m     11\u001b[0m \u001b[0mws_x\u001b[0m \u001b[1;33m=\u001b[0m \u001b[0mwind_linear_y\u001b[0m\u001b[1;33m(\u001b[0m\u001b[1;33m)\u001b[0m\u001b[1;33m\u001b[0m\u001b[1;33m\u001b[0m\u001b[0m\n",
      "\u001b[1;31mTypeError\u001b[0m: __init__() got an unexpected keyword argument 'u_wind'"
     ]
    }
   ],
   "source": [
    "reload(WindStress)\n",
    "\n",
    "def wind_linear_y():\n",
    "    t = [0, 10*3600]\n",
    "    u_wind = [np.zeros((2,1),     dtype=np.float32, order='C'),\n",
    "              np.array([[10], [0]], dtype=np.float32, order='C')]\n",
    "    v_wind = [np.zeros((1,1),     dtype=np.float32, order='C'),\n",
    "              np.zeros((1,1),     dtype=np.float32, order='C')]\n",
    "    \n",
    "    return WindStress.WindStress(t=t, u_wind=u_wind, v_wind=v_wind)\n",
    "ws_x = wind_linear_y()"
   ]
  },
  {
   "cell_type": "code",
   "execution_count": null,
   "metadata": {},
   "outputs": [],
   "source": [
    "reload(WindStress)\n",
    "\n",
    "def wind_linear_y_long():\n",
    "    t = [0, 10*360]\n",
    "    u_wind = [np.zeros((sim_args_x[\"ny\"]+4,1), dtype=np.float32, order='C'),\n",
    "              np.zeros((sim_args_x[\"ny\"]+4,1), dtype=np.float32, order='C')]\n",
    "    v_wind = [np.zeros((1,1),     dtype=np.float32, order='C'),\n",
    "              np.zeros((1,1),     dtype=np.float32, order='C')]\n",
    "    \n",
    "    #u_wind[1][:,0] += np.linspace(0, 10, sim_args_x[\"ny\"])\n",
    "    u_wind[1][:,0] += np.linspace(0, 5e-4, sim_args_x[\"ny\"]+4)\n",
    "\n",
    "    return WindStress.WindStress(t=t, X=u_wind, Y=v_wind)\n",
    "ws_x_long = wind_linear_y_long()\n",
    "#print(ws_x_long.X[1])"
   ]
  },
  {
   "cell_type": "code",
   "execution_count": null,
   "metadata": {},
   "outputs": [],
   "source": [
    "if 'sim' in globals():\n",
    "    sim.cleanUp()\n",
    "\n",
    "reload(CDKLM16)\n",
    "\n",
    "sim = CDKLM16.CDKLM16(**sim_args_x, **init_args, wind_stress=wind_linear_y_long())\n",
    "sim_animation(sim, 24, 360)\n"
   ]
  },
  {
   "cell_type": "code",
   "execution_count": null,
   "metadata": {},
   "outputs": [
    {
     "data": {
      "text/plain": [
       "<matplotlib.colorbar.Colorbar at 0x7faed01c0650>"
      ]
     },
     "execution_count": 16,
     "metadata": {},
     "output_type": "execute_result"
    },
    {
     "data": {
      "image/png": "[encoded data removed]",
      "text/plain": [
       "<Figure size 432x360 with 2 Axes>"
      ]
     },
     "metadata": {},
     "output_type": "display_data"
    }
   ],
   "source": [
    "fig = plt.figure(figsize=(6,5))\n",
    "eta, hu, hv = sim.download(interior_domain_only=True)\n",
    "plt.imshow(hu/100, origin=\"lower\")\n",
    "plt.colorbar()"
   ]
  },
  {
   "cell_type": "markdown",
   "metadata": {},
   "source": [
    "# Investigate in the cross section on y\n",
    "We see (before bug fix) that the northernmost values for $hu$ are no longer linearly increasing, but constant.\n",
    "\n",
    "This is because the texture fetch for the wind stress was given as \n",
    "$j/N_y$, where $j$ was cell index globally (including ghost cells) plus 0.5 to account for being in the middle of the cell. Meaning that the the final two grid cells in the interior domain would fetch outside of the texture, resulting in a constant value (due to LINEAR texture flag, as table lookup is not available).\n",
    "\n",
    "This behaviour is expected though, if the texture is smaller than the number of grid cells, but since the NetCDFInitializer reads wind data onto the same discretized domain as the rest of the model - including ghost cells - we should not see this behavior."
   ]
  },
  {
   "cell_type": "code",
   "execution_count": null,
   "metadata": {},
   "outputs": [
    {
     "data": {
      "text/plain": [
       "[<matplotlib.lines.Line2D at 0x7faed0056650>]"
      ]
     },
     "execution_count": 17,
     "metadata": {},
     "output_type": "execute_result"
    },
    {
     "data": {
      "image/png": "[encoded data removed]",
      "text/plain": [
       "<Figure size 432x288 with 1 Axes>"
      ]
     },
     "metadata": {},
     "output_type": "display_data"
    }
   ],
   "source": [
    "plt.plot(hu[:, 100])"
   ]
  },
  {
   "cell_type": "code",
   "execution_count": null,
   "metadata": {},
   "outputs": [
    {
     "data": {
      "text/plain": [
       "[<matplotlib.lines.Line2D at 0x7fae9a692c90>]"
      ]
     },
     "execution_count": 21,
     "metadata": {},
     "output_type": "execute_result"
    },
    {
     "data": {
      "image/png": "[encoded data removed]",
      "text/plain": [
       "<Figure size 432x288 with 1 Axes>"
      ]
     },
     "metadata": {},
     "output_type": "display_data"
    }
   ],
   "source": [
    "plt.plot(hu[370:, 100])\n",
    "plt.plot(hu[:30,  100]+2.9)"
   ]
  },
  {
   "cell_type": "code",
   "execution_count": null,
   "metadata": {},
   "outputs": [
    {
     "name": "stdout",
     "output_type": "stream",
     "text": [
      "buuuu 399\n"
     ]
    }
   ],
   "source": [
    "for j in range(1, sim.ny):\n",
    "    if hu[j-1, 100] >= hu[j, 100]:\n",
    "        print(\"buuuu\", j)\n"
   ]
  }
 ],
 "metadata": {
  "interpreter": {
   "hash": "7bcf90a859d8d647cf7671364e34901e21688fecd52bdcb64466d37370727534"
  },
  "kernelspec": {
   "display_name": "Python 3.7.12 ('gpuocean')",
   "language": "python",
   "name": "python3"
  },
  "language_info": {
   "codemirror_mode": {
    "name": "ipython",
    "version": 3
   },
   "file_extension": ".py",
   "mimetype": "text/x-python",
   "name": "python",
   "nbconvert_exporter": "python",
   "pygments_lexer": "ipython3",
   "version": "3.7.12"
  },
  "orig_nbformat": 4
 },
 "nbformat": 4,
 "nbformat_minor": 2
}
